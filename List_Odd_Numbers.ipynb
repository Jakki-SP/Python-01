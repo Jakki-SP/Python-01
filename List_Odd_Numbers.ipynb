{
  "nbformat": 4,
  "nbformat_minor": 0,
  "metadata": {
    "colab": {
      "provenance": [],
      "collapsed_sections": [],
      "authorship_tag": "ABX9TyNWun2LgE88CHiHNP+IvWtU",
      "include_colab_link": true
    },
    "kernelspec": {
      "name": "python3",
      "display_name": "Python 3"
    },
    "language_info": {
      "name": "python"
    }
  },
  "cells": [
    {
      "cell_type": "markdown",
      "metadata": {
        "id": "view-in-github",
        "colab_type": "text"
      },
      "source": [
        "<a href=\"https://colab.research.google.com/github/Jakki-SP/Python-01/blob/master/List_Odd_Numbers.ipynb\" target=\"_parent\"><img src=\"https://colab.research.google.com/assets/colab-badge.svg\" alt=\"Open In Colab\"/></a>"
      ]
    },
    {
      "cell_type": "markdown",
      "source": [
        "**Create a list of all odd numbers between 1 and a max number. Max number is something you need to take from a user using input() function**"
      ],
      "metadata": {
        "id": "P2ncuxQgVSNF"
      }
    },
    {
      "cell_type": "code",
      "execution_count": 11,
      "metadata": {
        "colab": {
          "base_uri": "https://localhost:8080/"
        },
        "id": "DTMAE2-cVOXw",
        "outputId": "67ffbd8c-a4bf-4272-8066-07160e100126"
      },
      "outputs": [
        {
          "name": "stdout",
          "output_type": "stream",
          "text": [
            "Enter max number =20\n"
          ]
        }
      ],
      "source": [
        "max_number = int(input(\"Enter max number =\"))"
      ]
    },
    {
      "cell_type": "code",
      "source": [
        "odd_numbers = []\n",
        "i = 1\n",
        "while i<max_number:\n",
        "  if(i%2 != 0):\n",
        "    odd_numbers.append(i)\n",
        "  i += 1\n",
        "print(odd_numbers)"
      ],
      "metadata": {
        "colab": {
          "base_uri": "https://localhost:8080/"
        },
        "id": "aqbsEDJ0Vsgh",
        "outputId": "5a389e7a-a7c6-4a07-fe88-10838223003b"
      },
      "execution_count": 12,
      "outputs": [
        {
          "output_type": "stream",
          "name": "stdout",
          "text": [
            "[1, 3, 5, 7, 9, 11, 13, 15, 17, 19]\n"
          ]
        }
      ]
    },
    {
      "cell_type": "code",
      "source": [
        "# another way\n",
        "odd_numbers = []\n",
        "for i in range(1,max_number):\n",
        "  if(i%2 == 1):\n",
        "    odd_numbers.append(i)\n",
        "print(odd_numbers)"
      ],
      "metadata": {
        "colab": {
          "base_uri": "https://localhost:8080/"
        },
        "id": "NMTDJJPhWuWg",
        "outputId": "6d48d44e-c89a-48e0-cbfd-609817a92085"
      },
      "execution_count": 13,
      "outputs": [
        {
          "output_type": "stream",
          "name": "stdout",
          "text": [
            "[1, 3, 5, 7, 9, 11, 13, 15, 17, 19]\n"
          ]
        }
      ]
    }
  ]
}