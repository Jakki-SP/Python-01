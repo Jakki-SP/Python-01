{
 "cells": [
  {
   "cell_type": "markdown",
   "metadata": {},
   "source": [
    "# Temperature conversion : Celsius, Fahrenheit and Kelvin"
   ]
  },
  {
   "cell_type": "markdown",
   "metadata": {},
   "source": [
    "Relation between Celsius, Fahrenheit and Kelvin\n",
    "\n",
    "C/100 = (F-32)/180 = (K-273)/100"
   ]
  },
  {
   "cell_type": "code",
   "execution_count": 1,
   "metadata": {},
   "outputs": [],
   "source": [
    "def temperatureConvertor(iTemp, iActualScale, iTargetScale):  \n",
    "    # \n",
    "    if (iActualScale == iTargetScale ):\n",
    "        return iTemp\n",
    "    \n",
    "    \n",
    "    # from centigrade to otherscale\n",
    "    if(iActualScale == \"C\"):  \n",
    "        if(iTargetScale == \"F\"):\n",
    "            return(((iTemp/100)*180)+32)\n",
    "        if(iTargetScale == \"K\"):\n",
    "            return(((iTemp/100)*100)+273)\n",
    "                    \n",
    "    # from Fahrenheit to otherscale\n",
    "    if(iActualScale == \"F\"):\n",
    "        if(iTargetScale == \"C\"):\n",
    "            return(((iTemp-32)/180)*100)            \n",
    "        if(iTargetScale == \"K\"):\n",
    "            return((((iTemp-32)/180)*100)+273)            \n",
    "    \n",
    "    # from Kelvin to otherscale\n",
    "    if(iActualScale == \"K\"):        \n",
    "        if(iTargetScale == \"C\"):\n",
    "            return(((iTemp-273)/100)*100)            \n",
    "        if(iTargetScale == \"F\"):\n",
    "            return((((iTemp-273)/100)*180)+32)            "
   ]
  },
  {
   "cell_type": "code",
   "execution_count": 2,
   "metadata": {},
   "outputs": [
    {
     "name": "stdout",
     "output_type": "stream",
     "text": [
      "50.0\n"
     ]
    }
   ],
   "source": [
    "F = temperatureConvertor(10, \"C\",\"F\")\n",
    "print(F)"
   ]
  },
  {
   "cell_type": "code",
   "execution_count": 3,
   "metadata": {},
   "outputs": [
    {
     "name": "stdout",
     "output_type": "stream",
     "text": [
      "10.0\n"
     ]
    }
   ],
   "source": [
    "C = temperatureConvertor(50, \"F\",\"C\")\n",
    "print(C)"
   ]
  },
  {
   "cell_type": "code",
   "execution_count": 4,
   "metadata": {},
   "outputs": [
    {
     "name": "stdout",
     "output_type": "stream",
     "text": [
      "283.0\n"
     ]
    }
   ],
   "source": [
    "K = temperatureConvertor(50, \"F\",\"K\")\n",
    "print(K)"
   ]
  },
  {
   "cell_type": "code",
   "execution_count": 5,
   "metadata": {},
   "outputs": [
    {
     "name": "stdout",
     "output_type": "stream",
     "text": [
      "50.0\n"
     ]
    }
   ],
   "source": [
    "F = temperatureConvertor(283, \"K\",\"F\")\n",
    "print(F)"
   ]
  },
  {
   "cell_type": "code",
   "execution_count": 6,
   "metadata": {},
   "outputs": [
    {
     "name": "stdout",
     "output_type": "stream",
     "text": [
      "10.0\n"
     ]
    }
   ],
   "source": [
    "C = temperatureConvertor(283, \"K\",\"C\")\n",
    "print(C)"
   ]
  },
  {
   "cell_type": "code",
   "execution_count": 7,
   "metadata": {},
   "outputs": [
    {
     "name": "stdout",
     "output_type": "stream",
     "text": [
      "556.0\n"
     ]
    }
   ],
   "source": [
    "K = temperatureConvertor(283, \"C\",\"K\")\n",
    "print(K)"
   ]
  },
  {
   "cell_type": "code",
   "execution_count": 10,
   "metadata": {},
   "outputs": [
    {
     "name": "stdout",
     "output_type": "stream",
     "text": [
      "Enter the temperature (e.g., 10C, 32F, 50K etc.) : 50F\n",
      "Temperature in Kelivin = 283.0\n",
      "Temperature in Fahrenheit = 50\n",
      "Temperature in Celsius = 10.0\n"
     ]
    }
   ],
   "source": [
    "temperature = input(\"Enter the temperature (e.g., 10C, 32F, 50K etc.) : \")\n",
    "degrees = int(temperature[:-1])\n",
    "scaleType = temperature[-1]\n",
    "\n",
    "newValue = temperatureConvertor(degrees, scaleType, \"K\")\n",
    "print(\"Temperature in Kelivin =\", newValue)\n",
    "\n",
    "newValue = temperatureConvertor(degrees, scaleType, \"F\")\n",
    "print(\"Temperature in Fahrenheit =\", newValue)\n",
    "\n",
    "newValue = temperatureConvertor(degrees, scaleType, \"C\")\n",
    "print(\"Temperature in Celsius =\", newValue)"
   ]
  }
 ],
 "metadata": {
  "kernelspec": {
   "display_name": "Python 3",
   "language": "python",
   "name": "python3"
  },
  "language_info": {
   "codemirror_mode": {
    "name": "ipython",
    "version": 3
   },
   "file_extension": ".py",
   "mimetype": "text/x-python",
   "name": "python",
   "nbconvert_exporter": "python",
   "pygments_lexer": "ipython3",
   "version": "3.7.0"
  }
 },
 "nbformat": 4,
 "nbformat_minor": 2
}
