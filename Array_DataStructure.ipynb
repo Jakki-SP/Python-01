{
  "nbformat": 4,
  "nbformat_minor": 0,
  "metadata": {
    "colab": {
      "provenance": [],
      "collapsed_sections": [],
      "authorship_tag": "ABX9TyNQo2d73E+Q7Tf5NOARC2g7",
      "include_colab_link": true
    },
    "kernelspec": {
      "name": "python3",
      "display_name": "Python 3"
    },
    "language_info": {
      "name": "python"
    }
  },
  "cells": [
    {
      "cell_type": "markdown",
      "metadata": {
        "id": "view-in-github",
        "colab_type": "text"
      },
      "source": [
        "<a href=\"https://colab.research.google.com/github/Jakki-SP/Python-01/blob/master/Array_DataStructure.ipynb\" target=\"_parent\"><img src=\"https://colab.research.google.com/assets/colab-badge.svg\" alt=\"Open In Colab\"/></a>"
      ]
    },
    {
      "cell_type": "markdown",
      "source": [
        "# **Exercise 01: Array DataStructure**\n",
        "\n",
        "Let us say your expense for every month are listed below,\n",
        "\n",
        "January - 2200\n",
        "\n",
        "February - 2350\n",
        "\n",
        "March - 2600\n",
        "\n",
        "April - 2130\n",
        "\n",
        "May - 2190\n",
        "\n",
        "**Create a list to store these monthly expenses and using that find out,**"
      ],
      "metadata": {
        "id": "Zsnnr4fWGOfI"
      }
    },
    {
      "cell_type": "code",
      "source": [
        "expenses = [ 2200, 2350, 2600, 2130, 2190 ]\n",
        "print(expenses)"
      ],
      "metadata": {
        "colab": {
          "base_uri": "https://localhost:8080/"
        },
        "id": "qnqiajZ0G4vR",
        "outputId": "4118a36a-8ae6-4881-e4ea-53e778066380"
      },
      "execution_count": 26,
      "outputs": [
        {
          "output_type": "stream",
          "name": "stdout",
          "text": [
            "[2200, 2350, 2600, 2130, 2190]\n"
          ]
        }
      ]
    },
    {
      "cell_type": "markdown",
      "source": [
        "**1. In Feb, how many dollars you spent extra compare to January?**"
      ],
      "metadata": {
        "id": "mAMcu_tSHs3m"
      }
    },
    {
      "cell_type": "code",
      "source": [
        "extra_expense_in_February = expenses[1]-expenses[0]\n",
        "print(\"extra_expense_in_February =\", extra_expense_in_February)"
      ],
      "metadata": {
        "colab": {
          "base_uri": "https://localhost:8080/"
        },
        "id": "GZmvBeE1HwCl",
        "outputId": "6c68e135-f98d-48b3-bd34-c67f5109d5ee"
      },
      "execution_count": 27,
      "outputs": [
        {
          "output_type": "stream",
          "name": "stdout",
          "text": [
            "extra_expense_in_February = 150\n"
          ]
        }
      ]
    },
    {
      "cell_type": "markdown",
      "source": [
        "**2. Find out your total expense in first quarter (first three months) of the year.**"
      ],
      "metadata": {
        "id": "alAlTLn1I6zP"
      }
    },
    {
      "cell_type": "code",
      "source": [
        "total_expense_in_first_quarter = expenses[0]+expenses[1]+expenses[2]\n",
        "print(\"total_expense_in_first_quarter = \", total_expense_in_first_quarter)\n"
      ],
      "metadata": {
        "colab": {
          "base_uri": "https://localhost:8080/"
        },
        "id": "Ukoa2gjCJCu1",
        "outputId": "e044e923-6468-44a3-97a6-d97a6d4b884e"
      },
      "execution_count": 28,
      "outputs": [
        {
          "output_type": "stream",
          "name": "stdout",
          "text": [
            "total_expense_in_first_quarter =  7150\n"
          ]
        }
      ]
    },
    {
      "cell_type": "markdown",
      "source": [
        "**3. Find out if you spent exactly 2000 dollars in any month**"
      ],
      "metadata": {
        "id": "3Gd5w4SOJo2c"
      }
    },
    {
      "cell_type": "code",
      "source": [
        "for i in range(len(expenses)):\n",
        "  if expenses[i] == 2000:\n",
        "    print(\"Yes, Spent exactly 2000\")\n",
        "    break\n",
        "  elif(i==(len(expenses)-1)):\n",
        "    print(\"No, Not spent exactly 2000\")"
      ],
      "metadata": {
        "colab": {
          "base_uri": "https://localhost:8080/"
        },
        "id": "Di5ki4o5JxDT",
        "outputId": "6ed6abe2-e164-4d0c-e185-0f82e3bfe147"
      },
      "execution_count": 29,
      "outputs": [
        {
          "output_type": "stream",
          "name": "stdout",
          "text": [
            "No, Not spent exactly 2000\n"
          ]
        }
      ]
    },
    {
      "cell_type": "code",
      "source": [
        "# simple method\n",
        "print(\"Exact amount spent found = \", 2000 in expenses)\n"
      ],
      "metadata": {
        "colab": {
          "base_uri": "https://localhost:8080/"
        },
        "id": "XEADXAyHMJVb",
        "outputId": "85762843-922e-411e-fc19-dd08ea1ed7d9"
      },
      "execution_count": 30,
      "outputs": [
        {
          "output_type": "stream",
          "name": "stdout",
          "text": [
            "Exact amount spent found =  False\n"
          ]
        }
      ]
    },
    {
      "cell_type": "markdown",
      "source": [
        "**4. June month just finished and your expense is 1980 dollar. Add this item to our monthly expense list**"
      ],
      "metadata": {
        "id": "OIEo6CvqMlS7"
      }
    },
    {
      "cell_type": "code",
      "source": [
        "expenses.append(1980)\n",
        "print(expenses)"
      ],
      "metadata": {
        "colab": {
          "base_uri": "https://localhost:8080/"
        },
        "id": "3ZIlBHA_Mj-T",
        "outputId": "2720b88a-303a-4e02-d95d-71f200dafb29"
      },
      "execution_count": 31,
      "outputs": [
        {
          "output_type": "stream",
          "name": "stdout",
          "text": [
            "[2200, 2350, 2600, 2130, 2190, 1980]\n"
          ]
        }
      ]
    },
    {
      "cell_type": "markdown",
      "source": [
        "**5.You returned an item that you bought in a month of April and got a refund of 200$. Make a correction to your monthly expense list based on this**\n"
      ],
      "metadata": {
        "id": "jW7YiQNSNlhD"
      }
    },
    {
      "cell_type": "code",
      "source": [
        "expenses[3] -= 200\n",
        "print(expenses)"
      ],
      "metadata": {
        "colab": {
          "base_uri": "https://localhost:8080/"
        },
        "id": "RqLIhVKFNPaq",
        "outputId": "52abe976-4b2e-4d5e-e215-2b346788f6dd"
      },
      "execution_count": 32,
      "outputs": [
        {
          "output_type": "stream",
          "name": "stdout",
          "text": [
            "[2200, 2350, 2600, 1930, 2190, 1980]\n"
          ]
        }
      ]
    }
  ]
}