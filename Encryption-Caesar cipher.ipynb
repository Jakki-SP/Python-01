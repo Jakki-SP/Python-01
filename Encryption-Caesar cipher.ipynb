{
 "cells": [
  {
   "cell_type": "markdown",
   "metadata": {},
   "source": [
    "# Encryption - Caesar cipher"
   ]
  },
  {
   "cell_type": "markdown",
   "metadata": {},
   "source": [
    "In cryptography, a Caesar cipher is a very simple encryption techniques in which each letter in the plain text is replaced by a letter some fixed number of positions down the alphabet. For example, with a shift of 3, A would be replaced by D, B would become E, and so on. The method is named after Julius Caesar, who used it to communicate with his generals. ROT-13 (\"rotate by 13 places\") is a widely used example of a Caesar cipher where the shift is 13. In Python, the key for ROT-13 may be represented by means of the following dictionary:\n",
    "\n",
    "key = {'a':'n', 'b':'o', 'c':'p', 'd':'q', 'e':'r', 'f':'s', 'g':'t', 'h':'u', 'i':'v', 'j':'w', 'k':'x', 'l':'y', 'm':'z', 'n':'a', 'o':'b', 'p':'c', 'q':'d', 'r':'e', 's':'f', 't':'g', 'u':'h', 'v':'i', 'w':'j', 'x':'k', 'y':'l', 'z':'m', 'A':'N', 'B':'O', 'C':'P', 'D':'Q', 'E':'R', 'F':'S', 'G':'T', 'H':'U', 'I':'V', 'J':'W', 'K':'X', 'L':'Y', 'M':'Z', 'N':'A', 'O':'B', 'P':'C', 'Q':'D', 'R':'E', 'S':'F', 'T':'G', 'U':'H', 'V':'I', 'W':'J', 'X':'K', 'Y':'L', 'Z':'M'}\n",
    "\n",
    "In this exercise we will to implement an encoder/decoder of ROT-13 ( I implemented to rotate based on the input rotation value)\n",
    "\n",
    "Once you're done, you will be able to read the following secret message:\n",
    "\n",
    "Pnrfne pvcure zrgubq vf anzrq nsgre Whyvhf Pnrfne!\n",
    "\n",
    "Note that since English has 26 characters, your ROT-13 program will be able to both encode and decode texts written in English"
   ]
  },
  {
   "cell_type": "markdown",
   "metadata": {},
   "source": [
    "Let write a function to create the decode keys based on the shift"
   ]
  },
  {
   "cell_type": "code",
   "execution_count": 1,
   "metadata": {},
   "outputs": [],
   "source": [
    "# This function generates keys based on the shift\n",
    "import string\n",
    "def keyGenerator(inCharList, inRotate):\n",
    "    subKeys ={}            \n",
    "    for location,char in enumerate(inCharList):\n",
    "        offset = location+inRotate\n",
    "        if ( offset >= 26):\n",
    "           offset = offset-26 \n",
    "        value = inCharList[offset]          \n",
    "        subKeys.update( {char:value} )  \n",
    "    return subKeys"
   ]
  },
  {
   "cell_type": "code",
   "execution_count": 2,
   "metadata": {},
   "outputs": [],
   "source": [
    "# This function generates the keys for lower case and upper case letters\n",
    "def decodeKeyGenerator(inRotate):\n",
    "    lowerCaseLetters = string.ascii_lowercase\n",
    "    upperCaseLetters = string.ascii_uppercase\n",
    "    \n",
    "    outKeys ={}\n",
    "    outKeys.update(keyGenerator(lowerCaseLetters, inRotate))\n",
    "    outKeys.update(keyGenerator(upperCaseLetters, inRotate))\n",
    "        \n",
    "    return outKeys"
   ]
  },
  {
   "cell_type": "markdown",
   "metadata": {},
   "source": [
    "Let us create the decode generator based on shift"
   ]
  },
  {
   "cell_type": "code",
   "execution_count": 3,
   "metadata": {},
   "outputs": [
    {
     "name": "stdout",
     "output_type": "stream",
     "text": [
      "{'a': 'n', 'b': 'o', 'c': 'p', 'd': 'q', 'e': 'r', 'f': 's', 'g': 't', 'h': 'u', 'i': 'v', 'j': 'w', 'k': 'x', 'l': 'y', 'm': 'z', 'n': 'a', 'o': 'b', 'p': 'c', 'q': 'd', 'r': 'e', 's': 'f', 't': 'g', 'u': 'h', 'v': 'i', 'w': 'j', 'x': 'k', 'y': 'l', 'z': 'm', 'A': 'N', 'B': 'O', 'C': 'P', 'D': 'Q', 'E': 'R', 'F': 'S', 'G': 'T', 'H': 'U', 'I': 'V', 'J': 'W', 'K': 'X', 'L': 'Y', 'M': 'Z', 'N': 'A', 'O': 'B', 'P': 'C', 'Q': 'D', 'R': 'E', 'S': 'F', 'T': 'G', 'U': 'H', 'V': 'I', 'W': 'J', 'X': 'K', 'Y': 'L', 'Z': 'M'}\n"
     ]
    }
   ],
   "source": [
    "rotate = 13\n",
    "decodekeys = decodeKeyGenerator(rotate)\n",
    "print(decodekeys)"
   ]
  },
  {
   "cell_type": "markdown",
   "metadata": {},
   "source": [
    "Let create the encode keys by reversing the decode keys"
   ]
  },
  {
   "cell_type": "code",
   "execution_count": 4,
   "metadata": {},
   "outputs": [
    {
     "name": "stdout",
     "output_type": "stream",
     "text": [
      "{'n': 'a', 'o': 'b', 'p': 'c', 'q': 'd', 'r': 'e', 's': 'f', 't': 'g', 'u': 'h', 'v': 'i', 'w': 'j', 'x': 'k', 'y': 'l', 'z': 'm', 'a': 'n', 'b': 'o', 'c': 'p', 'd': 'q', 'e': 'r', 'f': 's', 'g': 't', 'h': 'u', 'i': 'v', 'j': 'w', 'k': 'x', 'l': 'y', 'm': 'z', 'N': 'A', 'O': 'B', 'P': 'C', 'Q': 'D', 'R': 'E', 'S': 'F', 'T': 'G', 'U': 'H', 'V': 'I', 'W': 'J', 'X': 'K', 'Y': 'L', 'Z': 'M', 'A': 'N', 'B': 'O', 'C': 'P', 'D': 'Q', 'E': 'R', 'F': 'S', 'G': 'T', 'H': 'U', 'I': 'V', 'J': 'W', 'K': 'X', 'L': 'Y', 'M': 'Z'}\n"
     ]
    }
   ],
   "source": [
    "encodekeys = dict(map(reversed, decodekeys.items()))\n",
    "print(encodekeys)"
   ]
  },
  {
   "cell_type": "markdown",
   "metadata": {},
   "source": [
    "Let us write the function to decode and encode"
   ]
  },
  {
   "cell_type": "code",
   "execution_count": 5,
   "metadata": {},
   "outputs": [],
   "source": [
    "def encoderanddecoder(inStatement, inCoderType):\n",
    "    # e for encoding, d for decoding\", otherwise return\n",
    "    if(\"e\" == inCoderType):\n",
    "        keys = encodekeys\n",
    "    elif(\"d\" == inCoderType):\n",
    "        keys = decodekeys\n",
    "    else:\n",
    "        outStatement = \"Unknown type. pass 'e' for encoding, 'd' for decoding\"\n",
    "        return outStatement\n",
    "    \n",
    "    # encode or decode using the keys\n",
    "    words = inStatement.split()\n",
    "    outStatement = \"\"\n",
    "    for word in words:        \n",
    "        for char in word:\n",
    "            if(char in keys):\n",
    "                outStatement+= keys[char]\n",
    "            else:\n",
    "                outStatement+= char             \n",
    "        outStatement+= \" \"\n",
    "    return outStatement"
   ]
  },
  {
   "cell_type": "markdown",
   "metadata": {},
   "source": [
    "Test the encoding"
   ]
  },
  {
   "cell_type": "code",
   "execution_count": 6,
   "metadata": {},
   "outputs": [
    {
     "name": "stdout",
     "output_type": "stream",
     "text": [
      "Caesar cipher method is named after Julius Caesar! \n"
     ]
    }
   ],
   "source": [
    "statement1 = \"Pnrfne pvcure zrgubq vf anzrq nsgre Whyvhf Pnrfne!\"\n",
    "encodedStatement = encoderanddecoder(statement1,\"e\")\n",
    "print(encodedStatement)"
   ]
  },
  {
   "cell_type": "markdown",
   "metadata": {},
   "source": [
    "Test the decoding"
   ]
  },
  {
   "cell_type": "code",
   "execution_count": 7,
   "metadata": {},
   "outputs": [
    {
     "name": "stdout",
     "output_type": "stream",
     "text": [
      "Pnrfne pvcure zrgubq vf anzrq nsgre Whyvhf Pnrfne! \n"
     ]
    }
   ],
   "source": [
    "statement2 = \"Caesar cipher method is named after Julius Caesar!\"\n",
    "decodedStatement = encoderanddecoder(statement2,\"d\")\n",
    "print(decodedStatement)"
   ]
  },
  {
   "cell_type": "markdown",
   "metadata": {},
   "source": [
    "Test a wrong input value"
   ]
  },
  {
   "cell_type": "code",
   "execution_count": 8,
   "metadata": {},
   "outputs": [
    {
     "name": "stdout",
     "output_type": "stream",
     "text": [
      "Unknown type. pass 'e' for encoding, 'd' for decoding\n"
     ]
    }
   ],
   "source": [
    "inword= \"Why python is so easy ?\"\n",
    "outword = encoderanddecoder(inword,\"?\")\n",
    "print(outword)"
   ]
  }
 ],
 "metadata": {
  "kernelspec": {
   "display_name": "Python 3",
   "language": "python",
   "name": "python3"
  },
  "language_info": {
   "codemirror_mode": {
    "name": "ipython",
    "version": 3
   },
   "file_extension": ".py",
   "mimetype": "text/x-python",
   "name": "python",
   "nbconvert_exporter": "python",
   "pygments_lexer": "ipython3",
   "version": "3.7.0"
  }
 },
 "nbformat": 4,
 "nbformat_minor": 2
}
