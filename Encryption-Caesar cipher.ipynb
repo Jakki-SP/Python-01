{
 "cells": [
  {
   "cell_type": "markdown",
   "metadata": {},
   "source": [
    "# Encryption - Caesar cipher"
   ]
  },
  {
   "cell_type": "markdown",
   "metadata": {},
   "source": [
    "In cryptography, a Caesar cipher is a very simple encryption techniques in which each letter in the plain text is replaced by a letter some fixed number of positions down the alphabet. For example, with a shift of 3, A would be replaced by D, B would become E, and so on. The method is named after Julius Caesar, who used it to communicate with his generals. ROT-13 (\"rotate by 13 places\") is a widely used example of a Caesar cipher where the shift is 13. In Python, the key for ROT-13 may be represented by means of the following dictionary:\n",
    "\n",
    "key = {'a':'n', 'b':'o', 'c':'p', 'd':'q', 'e':'r', 'f':'s', 'g':'t', 'h':'u', 'i':'v', 'j':'w', 'k':'x', 'l':'y', 'm':'z', 'n':'a', 'o':'b', 'p':'c', 'q':'d', 'r':'e', 's':'f', 't':'g', 'u':'h', 'v':'i', 'w':'j', 'x':'k', 'y':'l', 'z':'m', 'A':'N', 'B':'O', 'C':'P', 'D':'Q', 'E':'R', 'F':'S', 'G':'T', 'H':'U', 'I':'V', 'J':'W', 'K':'X', 'L':'Y', 'M':'Z', 'N':'A', 'O':'B', 'P':'C', 'Q':'D', 'R':'E', 'S':'F', 'T':'G', 'U':'H', 'V':'I', 'W':'J', 'X':'K', 'Y':'L', 'Z':'M'}\n",
    "\n",
    "Your task in this exercise is to implement an encoder/decoder of ROT-13. Once you're done, you will be able to read the following secret message:\n",
    "\n",
    "Pnrfne pvcure zrgubq vf anzrq nsgre Whyvhf Pnrfne!\n",
    "\n",
    "Note that since English has 26 characters, your ROT-13 program will be able to both encode and decode texts written in English"
   ]
  },
  {
   "cell_type": "markdown",
   "metadata": {},
   "source": [
    "Let write a function to create the decode keys based on the shift"
   ]
  },
  {
   "cell_type": "code",
   "execution_count": 1,
   "metadata": {},
   "outputs": [],
   "source": [
    "import string\n",
    "def decodeKeyGenerator(inShift):\n",
    "    outKeys ={}\n",
    "    \n",
    "    # Generate keys for lower case letters\n",
    "    lowerCaseLetters = string.ascii_lowercase\n",
    "    list =[]\n",
    "    for i in lowerCaseLetters:\n",
    "        list.append(i)\n",
    "        \n",
    "    for location,char in enumerate(list):\n",
    "        offset = location+inShift\n",
    "        if ( offset >= 26):\n",
    "           offset = offset-26 \n",
    "        value = list[offset]          \n",
    "        outKeys.update( {char:value} )\n",
    "    \n",
    "    # Generate keys for upper case letters\n",
    "    upperCaseLetters = string.ascii_uppercase\n",
    "    list =[]\n",
    "    for i in upperCaseLetters:\n",
    "        list.append(i)\n",
    "        \n",
    "    for location,char in enumerate(list):\n",
    "        offset = location+inShift\n",
    "        if ( offset >= 26):\n",
    "           offset = offset-26 \n",
    "        value = list[offset]          \n",
    "        outKeys.update( {char:value} )\n",
    "        \n",
    "    return outKeys"
   ]
  },
  {
   "cell_type": "markdown",
   "metadata": {},
   "source": [
    "Let us create the decode generator based on shift"
   ]
  },
  {
   "cell_type": "code",
   "execution_count": 2,
   "metadata": {},
   "outputs": [
    {
     "name": "stdout",
     "output_type": "stream",
     "text": [
      "{'a': 'n', 'b': 'o', 'c': 'p', 'd': 'q', 'e': 'r', 'f': 's', 'g': 't', 'h': 'u', 'i': 'v', 'j': 'w', 'k': 'x', 'l': 'y', 'm': 'z', 'n': 'a', 'o': 'b', 'p': 'c', 'q': 'd', 'r': 'e', 's': 'f', 't': 'g', 'u': 'h', 'v': 'i', 'w': 'j', 'x': 'k', 'y': 'l', 'z': 'm', 'A': 'N', 'B': 'O', 'C': 'P', 'D': 'Q', 'E': 'R', 'F': 'S', 'G': 'T', 'H': 'U', 'I': 'V', 'J': 'W', 'K': 'X', 'L': 'Y', 'M': 'Z', 'N': 'A', 'O': 'B', 'P': 'C', 'Q': 'D', 'R': 'E', 'S': 'F', 'T': 'G', 'U': 'H', 'V': 'I', 'W': 'J', 'X': 'K', 'Y': 'L', 'Z': 'M'}\n"
     ]
    }
   ],
   "source": [
    "shift = 13\n",
    "decodekeys = decodeKeyGenerator(shift)\n",
    "print(decodekeys)"
   ]
  },
  {
   "cell_type": "markdown",
   "metadata": {},
   "source": [
    "Let create the encode keys by reversing the decode keys"
   ]
  },
  {
   "cell_type": "code",
   "execution_count": 3,
   "metadata": {},
   "outputs": [
    {
     "name": "stdout",
     "output_type": "stream",
     "text": [
      "{'n': 'a', 'o': 'b', 'p': 'c', 'q': 'd', 'r': 'e', 's': 'f', 't': 'g', 'u': 'h', 'v': 'i', 'w': 'j', 'x': 'k', 'y': 'l', 'z': 'm', 'a': 'n', 'b': 'o', 'c': 'p', 'd': 'q', 'e': 'r', 'f': 's', 'g': 't', 'h': 'u', 'i': 'v', 'j': 'w', 'k': 'x', 'l': 'y', 'm': 'z', 'N': 'A', 'O': 'B', 'P': 'C', 'Q': 'D', 'R': 'E', 'S': 'F', 'T': 'G', 'U': 'H', 'V': 'I', 'W': 'J', 'X': 'K', 'Y': 'L', 'Z': 'M', 'A': 'N', 'B': 'O', 'C': 'P', 'D': 'Q', 'E': 'R', 'F': 'S', 'G': 'T', 'H': 'U', 'I': 'V', 'J': 'W', 'K': 'X', 'L': 'Y', 'M': 'Z'}\n"
     ]
    }
   ],
   "source": [
    "encodekeys = dict(map(reversed, decodekeys.items()))\n",
    "print(encodekeys)"
   ]
  },
  {
   "cell_type": "markdown",
   "metadata": {},
   "source": [
    "Let us write the function to decode"
   ]
  },
  {
   "cell_type": "code",
   "execution_count": 4,
   "metadata": {},
   "outputs": [],
   "source": [
    "def encoderanddecoder(inStatement, inCoderType):\n",
    "    # e for encoding, d for decoding\", otherwise return\n",
    "    if(\"e\" == inCoderType):\n",
    "        keys = encodekeys\n",
    "    elif(\"d\" == inCoderType):\n",
    "        keys = decodekeys\n",
    "    else:\n",
    "        outStatement = \"Unkown type. pass 'e' for encoding, 'd' for decoding\"\n",
    "        return outStatement\n",
    "    \n",
    "    # encode or decode using the keys\n",
    "    words = inStatement.split()\n",
    "    outStatement = \"\"\n",
    "    for word in words:        \n",
    "        for char in word:\n",
    "            if(char in keys):\n",
    "                outStatement+= keys[char]\n",
    "            else:\n",
    "                outStatement+= char             \n",
    "        outStatement+= \" \"\n",
    "    return outStatement"
   ]
  },
  {
   "cell_type": "markdown",
   "metadata": {},
   "source": [
    "Test the encoding"
   ]
  },
  {
   "cell_type": "code",
   "execution_count": 5,
   "metadata": {},
   "outputs": [
    {
     "name": "stdout",
     "output_type": "stream",
     "text": [
      "Caesar cipher method is named after Julius Caesar! \n"
     ]
    }
   ],
   "source": [
    "decodedStatement = \"Pnrfne pvcure zrgubq vf anzrq nsgre Whyvhf Pnrfne!\"\n",
    "encodedStatement = encoderanddecoder(decodedStatement,\"e\")\n",
    "print(encodedStatement)"
   ]
  },
  {
   "cell_type": "markdown",
   "metadata": {},
   "source": [
    "Test the decoding"
   ]
  },
  {
   "cell_type": "code",
   "execution_count": 6,
   "metadata": {},
   "outputs": [
    {
     "name": "stdout",
     "output_type": "stream",
     "text": [
      "Pnrfne pvcure zrgubq vf anzrq nsgre Whyvhf Pnrfne! \n"
     ]
    }
   ],
   "source": [
    "encodedStatement = \"Caesar cipher method is named after Julius Caesar!\"\n",
    "decodedStatement = encoderanddecoder(encodedStatement,\"d\")\n",
    "print(decodedStatement)"
   ]
  },
  {
   "cell_type": "markdown",
   "metadata": {},
   "source": [
    "Test not a encoding or decoding"
   ]
  },
  {
   "cell_type": "code",
   "execution_count": 7,
   "metadata": {},
   "outputs": [
    {
     "name": "stdout",
     "output_type": "stream",
     "text": [
      "Unkown type. pass 'e' for encoding, 'd' for decoding\n"
     ]
    }
   ],
   "source": [
    "inword= \"Why python is easy so easy ?\"\n",
    "outword = encoderanddecoder(inword,\"?\")\n",
    "print(outword)"
   ]
  },
  {
   "cell_type": "markdown",
   "metadata": {},
   "source": [
    "future scope : decodeKeyGenerator code to be improved further, to avoid repetition of certain in that function        "
   ]
  }
 ],
 "metadata": {
  "kernelspec": {
   "display_name": "Python 3",
   "language": "python",
   "name": "python3"
  },
  "language_info": {
   "codemirror_mode": {
    "name": "ipython",
    "version": 3
   },
   "file_extension": ".py",
   "mimetype": "text/x-python",
   "name": "python",
   "nbconvert_exporter": "python",
   "pygments_lexer": "ipython3",
   "version": "3.7.0"
  }
 },
 "nbformat": 4,
 "nbformat_minor": 2
}
