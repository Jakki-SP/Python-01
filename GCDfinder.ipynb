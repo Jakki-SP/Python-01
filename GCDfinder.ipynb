{
 "cells": [
  {
   "cell_type": "markdown",
   "metadata": {},
   "source": [
    "# Finding GCD ( or HCF ) of multiple values\n",
    "### This program reads the multiple values from the user ( separated by comma ) and finds the GCD"
   ]
  },
  {
   "cell_type": "code",
   "execution_count": 3,
   "metadata": {},
   "outputs": [
    {
     "name": "stdout",
     "output_type": "stream",
     "text": [
      "Enter values ( separated by comma ): 225,100,625\n",
      "Number list :  [225, 100, 625]\n",
      "GCD = 25\n"
     ]
    }
   ],
   "source": [
    "numbers = [int(x) for x in input(\"Enter values ( separated by comma ): \").split(',')] \n",
    "print(\"Number list : \", numbers) \n",
    "\n",
    "def gcdcalculator(x, y):       \n",
    "    while(y): \n",
    "        r = x % y\n",
    "        x = y\n",
    "        y = r\n",
    "    return x \n",
    "          \n",
    "num1 = numbers[0] \n",
    "num2 = numbers[1] \n",
    "gcd = gcdcalculator(num1, num2) \n",
    "  \n",
    "for i in range(2, len(numbers)): \n",
    "    gcd = gcdcalculator(gcd, numbers[i]) \n",
    "    \n",
    "print(\"GCD =\",gcd)"
   ]
  },
  {
   "cell_type": "code",
   "execution_count": null,
   "metadata": {},
   "outputs": [],
   "source": []
  }
 ],
 "metadata": {
  "kernelspec": {
   "display_name": "Python 3",
   "language": "python",
   "name": "python3"
  },
  "language_info": {
   "codemirror_mode": {
    "name": "ipython",
    "version": 3
   },
   "file_extension": ".py",
   "mimetype": "text/x-python",
   "name": "python",
   "nbconvert_exporter": "python",
   "pygments_lexer": "ipython3",
   "version": "3.7.0"
  }
 },
 "nbformat": 4,
 "nbformat_minor": 2
}
