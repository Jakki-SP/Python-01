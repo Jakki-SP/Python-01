{
 "cells": [
  {
   "cell_type": "markdown",
   "metadata": {},
   "source": [
    "# Listing a files in a directory and subdirectory\n",
    "\n",
    "### Here we will write code to list of all the files with csv extensio in a directory and also in it's sub directories"
   ]
  },
  {
   "cell_type": "code",
   "execution_count": 3,
   "metadata": {},
   "outputs": [
    {
     "name": "stdout",
     "output_type": "stream",
     "text": [
      "C:\\Users\\Guestuser\\Desktop\\work\\78yui.csv\n",
      "C:\\Users\\Guestuser\\Desktop\\work\\tyu45.csv\n",
      "C:\\Users\\Guestuser\\Desktop\\work\\tyui.csv\n",
      "C:\\Users\\Guestuser\\Desktop\\work\\wert67.csv\n",
      "C:\\Users\\Guestuser\\Desktop\\work\\zxcv345.csv\n",
      "C:\\Users\\Guestuser\\Desktop\\work\\Folder1\\c1.csv\n",
      "C:\\Users\\Guestuser\\Desktop\\work\\Folder1\\ert2.csv\n"
     ]
    }
   ],
   "source": [
    "# import the libraries\n",
    "import glob\n",
    "import os\n",
    "\n",
    "# folder I am interested in\n",
    "myBaseFolder = r\"C:\\Users\\Guestuser\\Desktop\\work\"\n",
    "\n",
    "# Let us create a empty list to append it later\n",
    "absoluteFilePaths = []\n",
    "\n",
    "# Let us get all the sub directories using the walk function\n",
    "subDirs = [x[0] for x in os.walk(myBaseFolder)]\n",
    "\n",
    "# Let us iterate through the sub directories\n",
    "for subDir in subDirs:\n",
    "    os.chdir(subDir) # change directory to the sub directrory\n",
    "    subDirFiles = glob.glob(\"*.csv\") # Let us search all the files with our interesed extentio type\n",
    "    for subDirFile in subDirFiles:  # Now interate through the files in that list  \n",
    "        absoluteFilePaths.append(os.path.join(subDir, subDirFile)) # now join the directory and the filename and append to the list\n",
    "\n",
    "# Fianlly we will print the list of files\n",
    "for absoluteFilePath in absoluteFilePaths:\n",
    "    print(absoluteFilePath)"
   ]
  }
 ],
 "metadata": {
  "kernelspec": {
   "display_name": "Python 3",
   "language": "python",
   "name": "python3"
  },
  "language_info": {
   "codemirror_mode": {
    "name": "ipython",
    "version": 3
   },
   "file_extension": ".py",
   "mimetype": "text/x-python",
   "name": "python",
   "nbconvert_exporter": "python",
   "pygments_lexer": "ipython3",
   "version": "3.7.0"
  }
 },
 "nbformat": 4,
 "nbformat_minor": 2
}
