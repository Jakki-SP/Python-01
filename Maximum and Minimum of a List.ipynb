{
 "cells": [
  {
   "cell_type": "markdown",
   "metadata": {},
   "source": [
    "### Write a function that reads a list of numbers from the user and prints the largest and smallest numbers"
   ]
  },
  {
   "cell_type": "code",
   "execution_count": 17,
   "metadata": {},
   "outputs": [
    {
     "name": "stdout",
     "output_type": "stream",
     "text": [
      "Enter the numbers(separated by comma:)-2,0,4,-2.8,9.5\n",
      "['-2', '0', '4', '-2.8', '9.5']\n",
      "Largest Number : 9.5\n",
      "Small Number : -2\n"
     ]
    }
   ],
   "source": [
    "# defining function that takes list as an input and returns the maximum and minimum numbers in the list\n",
    "def findMaxMin(iList):\n",
    "    max = min = iList[0] #  assign the first number as min and max\n",
    "    for next in iList: \n",
    "        if(next > max):\n",
    "            max = next\n",
    "        if(next < min):\n",
    "            min = next\n",
    "    return max, min\n",
    "\n",
    "listAsString = input(\"Enter the numbers(separated by comma:)\")\n",
    "listAsNum = listAsString.split(\",\") \n",
    "print(listAsNum)\n",
    "maxminList = findMaxMin(listAsNum)\n",
    "print(\"Largest Number :\", maxminList[0])\n",
    "print(\"Small Number :\", maxminList[1])"
   ]
  },
  {
   "cell_type": "markdown",
   "metadata": {},
   "source": [
    "we dont have to write the above function, just pass the list to max() and min(), ....easy...right!..."
   ]
  },
  {
   "cell_type": "code",
   "execution_count": 18,
   "metadata": {},
   "outputs": [
    {
     "name": "stdout",
     "output_type": "stream",
     "text": [
      "Largest Number : 9.5\n",
      "Small Number : -2\n"
     ]
    }
   ],
   "source": [
    "print(\"Largest Number :\", max(listAsNum))\n",
    "print(\"Small Number :\", min(listAsNum))"
   ]
  }
 ],
 "metadata": {
  "kernelspec": {
   "display_name": "Python 3",
   "language": "python",
   "name": "python3"
  },
  "language_info": {
   "codemirror_mode": {
    "name": "ipython",
    "version": 3
   },
   "file_extension": ".py",
   "mimetype": "text/x-python",
   "name": "python",
   "nbconvert_exporter": "python",
   "pygments_lexer": "ipython3",
   "version": "3.7.0"
  }
 },
 "nbformat": 4,
 "nbformat_minor": 2
}
