{
 "cells": [
  {
   "cell_type": "markdown",
   "metadata": {},
   "source": [
    "## write a program to return the smallest positive integer (greater than 0) that does not occur in the array."
   ]
  },
  {
   "cell_type": "code",
   "execution_count": 1,
   "metadata": {
    "scrolled": true
   },
   "outputs": [],
   "source": [
    "def smallestFinder(iArray):\n",
    "    smallest_int = 1\n",
    "    #iArray.sort()\n",
    "    max_number = max(iArray)\n",
    "    increment  = 0 \n",
    "    while(increment<=max_number):\n",
    "        increment=increment+1\n",
    "        if(increment in iArray):\n",
    "            smallest_int=increment+1\n",
    "        else:\n",
    "            return increment\n",
    "            \n",
    "    return smallest_int"
   ]
  },
  {
   "cell_type": "code",
   "execution_count": 2,
   "metadata": {
    "scrolled": true
   },
   "outputs": [
    {
     "name": "stdout",
     "output_type": "stream",
     "text": [
      "6\n"
     ]
    }
   ],
   "source": [
    "# Test 1\n",
    "test_arry1 = [5, 1, 3, 7, 4, 2, 2] # the function should return 6.\n",
    "print(smallestFinder(test_arry1))"
   ]
  },
  {
   "cell_type": "code",
   "execution_count": 3,
   "metadata": {
    "scrolled": true
   },
   "outputs": [
    {
     "name": "stdout",
     "output_type": "stream",
     "text": [
      "9\n"
     ]
    }
   ],
   "source": [
    "# test 2\n",
    "test_arry2 = [2, 1, 7, 8, 3, 4, 5, 6] # the function should return 9.\n",
    "print(smallestFinder(test_arry2))"
   ]
  },
  {
   "cell_type": "code",
   "execution_count": 4,
   "metadata": {},
   "outputs": [
    {
     "name": "stdout",
     "output_type": "stream",
     "text": [
      "1\n"
     ]
    }
   ],
   "source": [
    "# test 3\n",
    "test_arry3 = [-1,-7] # the function should return 1.\n",
    "print(smallestFinder(test_arry3))"
   ]
  },
  {
   "cell_type": "code",
   "execution_count": 5,
   "metadata": {},
   "outputs": [
    {
     "name": "stdout",
     "output_type": "stream",
     "text": [
      "1\n"
     ]
    }
   ],
   "source": [
    "# test 4\n",
    "test_arry4 = [0]  # should return 1\n",
    "print(smallestFinder(test_arry4))"
   ]
  },
  {
   "cell_type": "code",
   "execution_count": 6,
   "metadata": {},
   "outputs": [
    {
     "name": "stdout",
     "output_type": "stream",
     "text": [
      "2\n"
     ]
    }
   ],
   "source": [
    "# test 5\n",
    "test_arry5 = [1] # should return 2\n",
    "print(smallestFinder(test_arry5))"
   ]
  }
 ],
 "metadata": {
  "kernelspec": {
   "display_name": "Python 3",
   "language": "python",
   "name": "python3"
  },
  "language_info": {
   "codemirror_mode": {
    "name": "ipython",
    "version": 3
   },
   "file_extension": ".py",
   "mimetype": "text/x-python",
   "name": "python",
   "nbconvert_exporter": "python",
   "pygments_lexer": "ipython3",
   "version": "3.7.3"
  }
 },
 "nbformat": 4,
 "nbformat_minor": 2
}
