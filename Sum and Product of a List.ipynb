{
 "cells": [
  {
   "cell_type": "markdown",
   "metadata": {},
   "source": [
    "### Define a function sum() and a function multiply() that sums and multiplies (respectively) all the numbers in a list of numbers. "
   ]
  },
  {
   "cell_type": "code",
   "execution_count": 22,
   "metadata": {},
   "outputs": [
    {
     "name": "stdout",
     "output_type": "stream",
     "text": [
      "Enter the values(separated by comma :)2,3.5,6.0,-3\n",
      "Sum : 8.5\n",
      "Product :  -126.0\n"
     ]
    }
   ],
   "source": [
    "# functin returns the sum\n",
    "def sum(iList):\n",
    "    sum = 0\n",
    "    for next in iList:\n",
    "        sum+= next\n",
    "    return sum\n",
    "\n",
    "# function returns the product\n",
    "def multiply(iList):\n",
    "    product = 1\n",
    "    for next in iList:\n",
    "        product*= next\n",
    "    return product\n",
    "\n",
    "floatList = [float(x) for x in input(\"Enter the values(separated by comma :)\").split(\",\")]\n",
    "print(\"Sum :\", sum(floatList))\n",
    "print(\"Product : \", multiply(floatList))"
   ]
  }
 ],
 "metadata": {
  "kernelspec": {
   "display_name": "Python 3",
   "language": "python",
   "name": "python3"
  },
  "language_info": {
   "codemirror_mode": {
    "name": "ipython",
    "version": 3
   },
   "file_extension": ".py",
   "mimetype": "text/x-python",
   "name": "python",
   "nbconvert_exporter": "python",
   "pygments_lexer": "ipython3",
   "version": "3.7.0"
  }
 },
 "nbformat": 4,
 "nbformat_minor": 2
}
